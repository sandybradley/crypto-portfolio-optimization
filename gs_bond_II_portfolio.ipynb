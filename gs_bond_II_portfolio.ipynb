{
    "cells": [
        {
            "source": [
                "import dash\n",
                "from dash.dependencies import Input, Output\n",
                "import dash_core_components as dcc\n",
                "import dash_html_components as html\n",
                "\n",
                "from plotly import graph_objs as go\n",
                "from datetime import datetime as dt\n",
                "import json\n",
                "import pandas as pd"
            ],
            "outputs": [
                {
                    "name": "stderr",
                    "text": [
                        "/Users/jackparmer/anaconda/lib/python2.7/site-packages/matplotlib/font_manager.py:273: UserWarning:\n",
                        "\n",
                        "Matplotlib is building the font cache using fc-list. This may take a moment.\n",
                        "\n"
                    ],
                    "output_type": "stream"
                }
            ],
            "metadata": {
                "collapsed": false
            },
            "cell_type": "code",
            "execution_count": 1
        },
        {
            "source": [
                "df_fund_data = pd.read_csv('https://plot.ly/~jackp/17534.csv')\n",
                "df_fund_data.head()"
            ],
            "outputs": [
                {
                    "data": {
                        "text/html": [
                            "<div>\n",
                            "<table border=\"1\" class=\"dataframe\">\n",
                            "  <thead>\n",
                            "    <tr style=\"text-align: right;\">\n",
                            "      <th></th>\n",
                            "      <th>A</th>\n",
                            "      <th>B</th>\n",
                            "    </tr>\n",
                            "  </thead>\n",
                            "  <tbody>\n",
                            "    <tr>\n",
                            "      <th>0</th>\n",
                            "      <td>No. of holdings</td>\n",
                            "      <td>378.00</td>\n",
                            "    </tr>\n",
                            "    <tr>\n",
                            "      <th>1</th>\n",
                            "      <td>% in top 10</td>\n",
                            "      <td>49.00</td>\n",
                            "    </tr>\n",
                            "    <tr>\n",
                            "      <th>2</th>\n",
                            "      <td>Historical Volatility Portfolio - 3 yr</td>\n",
                            "      <td>4.15</td>\n",
                            "    </tr>\n",
                            "    <tr>\n",
                            "      <th>3</th>\n",
                            "      <td>Historical Tracking Error - 3 yr</td>\n",
                            "      <td>4.14</td>\n",
                            "    </tr>\n",
                            "    <tr>\n",
                            "      <th>4</th>\n",
                            "      <td>Excess Returns - 3 yr</td>\n",
                            "      <td>-1.32</td>\n",
                            "    </tr>\n",
                            "  </tbody>\n",
                            "</table>\n",
                            "</div>"
                        ],
                        "text/plain": [
                            "                                        A       B\n",
                            "0                         No. of holdings  378.00\n",
                            "1                             % in top 10   49.00\n",
                            "2  Historical Volatility Portfolio - 3 yr    4.15\n",
                            "3        Historical Tracking Error - 3 yr    4.14\n",
                            "4                   Excess Returns - 3 yr   -1.32"
                        ]
                    },
                    "metadata": {},
                    "output_type": "execute_result",
                    "execution_count": 2
                }
            ],
            "metadata": {
                "collapsed": false
            },
            "cell_type": "code",
            "execution_count": 2
        },
        {
            "source": [
                "df_perf_summary = pd.read_csv('https://plot.ly/~jackp/17530.csv')\n",
                "df_perf_summary.head()"
            ],
            "outputs": [
                {
                    "data": {
                        "text/html": [
                            "<div>\n",
                            "<table border=\"1\" class=\"dataframe\">\n",
                            "  <thead>\n",
                            "    <tr style=\"text-align: right;\">\n",
                            "      <th></th>\n",
                            "      <th>Col1</th>\n",
                            "      <th>Since Launch</th>\n",
                            "      <th>1 Mth</th>\n",
                            "      <th>3 Mths</th>\n",
                            "      <th>YTD</th>\n",
                            "      <th>1 Yr</th>\n",
                            "      <th>3 Yrs</th>\n",
                            "      <th>5 Yrs</th>\n",
                            "      <th>10 Yrs</th>\n",
                            "    </tr>\n",
                            "  </thead>\n",
                            "  <tbody>\n",
                            "    <tr>\n",
                            "      <th>0</th>\n",
                            "      <td>NaN</td>\n",
                            "      <td>Since Launch</td>\n",
                            "      <td>1 Mth</td>\n",
                            "      <td>3 Mths</td>\n",
                            "      <td>YTD</td>\n",
                            "      <td>1 Yr</td>\n",
                            "      <td>3 Yrs</td>\n",
                            "      <td>5 Yrs</td>\n",
                            "      <td>10 Yrs</td>\n",
                            "    </tr>\n",
                            "    <tr>\n",
                            "      <th>1</th>\n",
                            "      <td>Base Shares</td>\n",
                            "      <td>23.87</td>\n",
                            "      <td>0.22</td>\n",
                            "      <td>0.61</td>\n",
                            "      <td>0.61</td>\n",
                            "      <td>3.65</td>\n",
                            "      <td>'-0.82</td>\n",
                            "      <td>1.89</td>\n",
                            "      <td>2.25</td>\n",
                            "    </tr>\n",
                            "    <tr>\n",
                            "      <th>2</th>\n",
                            "      <td>3 Month Libor (USD)</td>\n",
                            "      <td>15.96</td>\n",
                            "      <td>0.1</td>\n",
                            "      <td>0.27</td>\n",
                            "      <td>0.27</td>\n",
                            "      <td>0.87</td>\n",
                            "      <td>0.51</td>\n",
                            "      <td>0.43</td>\n",
                            "      <td>1.07</td>\n",
                            "    </tr>\n",
                            "    <tr>\n",
                            "      <th>3</th>\n",
                            "      <td>Other Currency Shares (EUR-Hedged)</td>\n",
                            "      <td>20.09</td>\n",
                            "      <td>0.06</td>\n",
                            "      <td>0.21</td>\n",
                            "      <td>0.21</td>\n",
                            "      <td>2.24</td>\n",
                            "      <td>'-1.48</td>\n",
                            "      <td>1.46</td>\n",
                            "      <td>2.09</td>\n",
                            "    </tr>\n",
                            "    <tr>\n",
                            "      <th>4</th>\n",
                            "      <td>ICE Libor EUR 3 Month (EUR)</td>\n",
                            "      <td>15.7</td>\n",
                            "      <td>'-0.03</td>\n",
                            "      <td>'-0.09</td>\n",
                            "      <td>'-0.09</td>\n",
                            "      <td>'-0.32</td>\n",
                            "      <td>'-0.09</td>\n",
                            "      <td>0.04</td>\n",
                            "      <td>1.19</td>\n",
                            "    </tr>\n",
                            "  </tbody>\n",
                            "</table>\n",
                            "</div>"
                        ],
                        "text/plain": [
                            "                                 Col1  Since Launch   1 Mth  3 Mths     YTD  \\\n",
                            "0                                 NaN  Since Launch   1 Mth  3 Mths     YTD   \n",
                            "1                         Base Shares         23.87    0.22    0.61    0.61   \n",
                            "2                 3 Month Libor (USD)         15.96     0.1    0.27    0.27   \n",
                            "3  Other Currency Shares (EUR-Hedged)         20.09    0.06    0.21    0.21   \n",
                            "4         ICE Libor EUR 3 Month (EUR)          15.7  '-0.03  '-0.09  '-0.09   \n",
                            "\n",
                            "     1 Yr   3 Yrs  5 Yrs  10 Yrs  \n",
                            "0    1 Yr   3 Yrs  5 Yrs  10 Yrs  \n",
                            "1    3.65  '-0.82   1.89    2.25  \n",
                            "2    0.87    0.51   0.43    1.07  \n",
                            "3    2.24  '-1.48   1.46    2.09  \n",
                            "4  '-0.32  '-0.09   0.04    1.19  "
                        ]
                    },
                    "metadata": {},
                    "output_type": "execute_result",
                    "execution_count": 3
                }
            ],
            "metadata": {
                "collapsed": false
            },
            "cell_type": "code",
            "execution_count": 3
        },
        {
            "source": [
                "df_cal_year = pd.read_csv('https://plot.ly/~jackp/17528.csv')\n",
                "df_cal_year.head()"
            ],
            "outputs": [
                {
                    "data": {
                        "text/html": [
                            "<div>\n",
                            "<table border=\"1\" class=\"dataframe\">\n",
                            "  <thead>\n",
                            "    <tr style=\"text-align: right;\">\n",
                            "      <th></th>\n",
                            "      <th>Col1</th>\n",
                            "      <th>Col2</th>\n",
                            "      <th>Col3</th>\n",
                            "      <th>Col4</th>\n",
                            "      <th>Col5</th>\n",
                            "      <th>Col6</th>\n",
                            "    </tr>\n",
                            "  </thead>\n",
                            "  <tbody>\n",
                            "    <tr>\n",
                            "      <th>0</th>\n",
                            "      <td>NaN</td>\n",
                            "      <td>2012.0</td>\n",
                            "      <td>2013.0</td>\n",
                            "      <td>2014.0</td>\n",
                            "      <td>2015.0</td>\n",
                            "      <td>2016.0</td>\n",
                            "    </tr>\n",
                            "    <tr>\n",
                            "      <th>1</th>\n",
                            "      <td>Base Shares</td>\n",
                            "      <td>10.2</td>\n",
                            "      <td>5.7</td>\n",
                            "      <td>-3.0</td>\n",
                            "      <td>-0.7</td>\n",
                            "      <td>1.4</td>\n",
                            "    </tr>\n",
                            "    <tr>\n",
                            "      <th>2</th>\n",
                            "      <td>3 Month Libor (USD)</td>\n",
                            "      <td>0.4</td>\n",
                            "      <td>0.3</td>\n",
                            "      <td>0.2</td>\n",
                            "      <td>0.3</td>\n",
                            "      <td>0.8</td>\n",
                            "    </tr>\n",
                            "  </tbody>\n",
                            "</table>\n",
                            "</div>"
                        ],
                        "text/plain": [
                            "                  Col1    Col2    Col3    Col4    Col5    Col6\n",
                            "0                  NaN  2012.0  2013.0  2014.0  2015.0  2016.0\n",
                            "1          Base Shares    10.2     5.7    -3.0    -0.7     1.4\n",
                            "2  3 Month Libor (USD)     0.4     0.3     0.2     0.3     0.8"
                        ]
                    },
                    "metadata": {},
                    "output_type": "execute_result",
                    "execution_count": 4
                }
            ],
            "metadata": {
                "collapsed": false
            },
            "cell_type": "code",
            "execution_count": 4
        },
        {
            "source": [
                "df_perf_pc = pd.read_csv('https://plot.ly/~jackp/17532.csv')"
            ],
            "outputs": [],
            "metadata": {
                "collapsed": true
            },
            "cell_type": "code",
            "execution_count": 5
        },
        {
            "source": [
                "def make_dash_table( df ):\n",
                "    ''' Return a dash definitio of an HTML table for a Pandas dataframe '''\n",
                "    table = []\n",
                "    for index, row in df.iterrows():\n",
                "        html_row = []\n",
                "        for i in range(len(row)):\n",
                "            html_row.append( html.Td([ row[i] ]) )\n",
                "        table.append( html.Tr( html_row ) )\n",
                "    return table"
            ],
            "outputs": [],
            "metadata": {
                "collapsed": true
            },
            "cell_type": "code",
            "execution_count": 6
        },
        {
            "source": [
                "modifed_perf_table = make_dash_table( df_perf_summary )"
            ],
            "outputs": [],
            "metadata": {
                "collapsed": false
            },
            "cell_type": "code",
            "execution_count": 7
        },
        {
            "source": [
                "modifed_perf_table.insert( \n",
                "    0, html.Tr( [ \n",
                "            html.Td([]), \n",
                "            html.Td(['Cumulative'], colSpan=4, style=dict(textAlign=\"center\")), \n",
                "            html.Td(['Annualised'], colSpan=4, style=dict(textAlign=\"center\")) \n",
                "        ], style = dict( background='white', fontWeight=600 )\n",
                "    ) \n",
                ")"
            ],
            "outputs": [],
            "metadata": {
                "collapsed": false
            },
            "cell_type": "code",
            "execution_count": 8
        },
        {
            "source": [
                "df_fund_info = pd.read_csv('https://plot.ly/~jackp/17544.csv')\n",
                "df_fund_characteristics = pd.read_csv('https://plot.ly/~jackp/17542.csv')\n",
                "df_fund_facts = pd.read_csv('https://plot.ly/~jackp/17540.csv')\n",
                "df_bond_allocation = pd.read_csv('https://plot.ly/~jackp/17538.csv')"
            ],
            "outputs": [],
            "metadata": {
                "collapsed": false
            },
            "cell_type": "code",
            "execution_count": 9
        },
        {
            "source": [
                "dash.__version__"
            ],
            "outputs": [
                {
                    "data": {
                        "text/plain": [
                            "'0.15.2'"
                        ]
                    },
                    "metadata": {},
                    "output_type": "execute_result",
                    "execution_count": 10
                }
            ],
            "metadata": {
                "collapsed": false
            },
            "cell_type": "code",
            "execution_count": 10
        },
        {
            "source": [
                "app = dash.Dash('GS Bond II Portfolio')\n",
                "\n",
                "# Describe the layout, or the UI, of the app\n",
                "app.layout = html.Div([        \n",
                "        \n",
                "    html.Div([ # page 1\n",
                "\n",
                "        html.A([ 'Print PDF' ], \n",
                "           className=\"button no-print\", \n",
                "           style=dict(position=\"absolute\", top=-40, right=0)),     \n",
                "                        \n",
                "        html.Div([ # subpage 1\n",
                "\n",
                "            # Row 1 (Header)\n",
                "\n",
                "            html.Div([\n",
                "\n",
                "                html.Div([      \n",
                "                    html.H5('Goldman Sachs Strategic Absolute Return Bond II Portfolio'),\n",
                "                    html.H6('A sub-fund of Goldman Sachs Funds, SICAV', style=dict(color='#7F90AC')),\n",
                "                    ], className = \"nine columns padded\" ),\n",
                "\n",
                "                html.Div([            \n",
                "                    html.H1([html.Span('03', style=dict(opacity=0.5)), html.Span('17')]),\n",
                "                    html.H6('Monthly Fund Update')\n",
                "                ], className = \"three columns gs-header gs-accent-header padded\", style=dict(float='right') ),\n",
                "\n",
                "            ], className = \"row gs-header gs-text-header\"),\n",
                "\n",
                "            html.Br([]),\n",
                "\n",
                "            # Row 2\n",
                "\n",
                "            html.Div([     \n",
                "\n",
                "                html.Div([\n",
                "                    html.H6('Investor Profile', className = \"gs-header gs-text-header padded\"),\n",
                "\n",
                "                    html.Strong('Investor objective'),\n",
                "                    html.P('Capital appreciation and income.', className = 'blue-text'),\n",
                "\n",
                "                    html.Strong('Position in your overall investment portfolio*'),\n",
                "                    html.P('The fund can complement your portfolio.', className = 'blue-text'),\n",
                "\n",
                "                    html.Strong('The fund is designed for:'),\n",
                "                    html.P('The fund is designed for investors who are looking for a flexible \\\n",
                "                            global investment and sub-investment grade fixed income portfolio \\\n",
                "                            that has the ability to alter its exposure with an emphasis on interest \\\n",
                "                            rates, currencies and credit markets and that seeks to generate returns \\\n",
                "                            through different market conditions with a riskier investment strategy \\\n",
                "                            than GS Strategic Absolute Return Bond I Portfolio.', className = 'blue-text' ),\n",
                "\n",
                "                ], className = \"four columns\" ),\n",
                "\n",
                "                html.Div([\n",
                "                    html.H6([\"Performance (Indexed)\"],\n",
                "                            className = \"gs-header gs-table-header padded\"),\n",
                "                    html.Iframe(src=\"https://plot.ly/~jackp/17553.embed?modebar=false&link=false&autosize=true\", \\\n",
                "                            seamless=\"seamless\", style=dict(border=0), width=\"100%\", height=\"250\")\n",
                "                ], className = \"eight columns\" ),\n",
                "\n",
                "            ], className = \"row \"),\n",
                "                        \n",
                "            # Row 2.5\n",
                "\n",
                "            html.Div([     \n",
                "\n",
                "                html.Div([\n",
                "                    html.H6('Performance (%)', className = \"gs-header gs-text-header padded\"),\n",
                "                    html.Table( make_dash_table( df_perf_pc ), className = 'tiny-header' )\n",
                "                ], className = \"four columns\" ),\n",
                "\n",
                "                html.Div([\n",
                "                    html.P(\"This is an actively managed fund that is not designed to track its reference benchmark. \\\n",
                "                        Therefore the performance of the fund and the performance of its reference benchmark \\\n",
                "                        may diverge. In addition stated reference benchmark returns do not reflect any management \\\n",
                "                        or other charges to the fund, whereas stated returns of the fund do.\"),\n",
                "                    html.Strong(\"Past performance does not guarantee future results, which may vary. \\\n",
                "                        The value of investments and the income derived from investments will fluctuate and \\\n",
                "                        can go down as well as up. A loss of capital may occur.\")\n",
                "                ], className = \"eight columns\" ),\n",
                "\n",
                "            ], className = \"row \"),                        \n",
                "\n",
                "            # Row 3\n",
                "\n",
                "            html.Div([             \n",
                "\n",
                "                html.Div([\n",
                "                    html.H6('Fund Data', className = \"gs-header gs-text-header padded\"),\n",
                "                    html.Table( make_dash_table( df_fund_data ) )\n",
                "                ], className = \"four columns\" ),\n",
                "\n",
                "                html.Div([\n",
                "                    html.H6(\"Performance Summary (%)\", className = \"gs-header gs-table-header padded\"),\n",
                "                    html.Table( modifed_perf_table, className = \"reversed\" ),\n",
                "\n",
                "                    html.H6(\"Calendar Year Performance (%)\", className = \"gs-header gs-table-header padded\"),\n",
                "                    html.Table( make_dash_table( df_cal_year ) )\n",
                "                ], className = \"eight columns\" ),                      \n",
                "\n",
                "            ], className = \"row \"),                \n",
                "\n",
                "        ], className = \"subpage\" ),\n",
                "\n",
                "    ], className = \"page\" ),  \n",
                "             \n",
                "    html.Div([ # page 2\n",
                "                \n",
                "        html.A([ 'Print PDF' ], \n",
                "           className=\"button no-print\", \n",
                "           style=dict(position=\"absolute\", top=-40, right=0)),                \n",
                "                \n",
                "        html.Div([ # subpage 2\n",
                "                        \n",
                "            # Row 1 (Header)\n",
                "                        \n",
                "            html.Div([\n",
                "\n",
                "                html.Div([      \n",
                "                    html.H5('Goldman Sachs Strategic  Absolute Return Bond II Portfolio'),\n",
                "                    html.H6('A sub-fund of Goldman Sachs Funds, SICAV', style=dict(color='#7F90AC')),\n",
                "                    ], className = \"nine columns padded\" ),\n",
                "\n",
                "                html.Div([            \n",
                "                    html.H1([html.Span('03', style=dict(opacity=0.5)), html.Span('17')]),\n",
                "                    html.H6('Monthly Fund Update')\n",
                "                ], className = \"three columns gs-header gs-accent-header padded\", style=dict(float='right') ),\n",
                "\n",
                "            ], className = \"row gs-header gs-text-header\"),\n",
                "                        \n",
                "            # Row 2\n",
                "                        \n",
                "            html.Div([\n",
                "\n",
                "                # Data tables on this page:\n",
                "                # ---\n",
                "                # df_fund_info = pd.read_csv('https://plot.ly/~jackp/17544/.csv')\n",
                "                # df_fund_characteristics = pd.read_csv('https://plot.ly/~jackp/17542/.csv')\n",
                "                # df_fund_facts = pd.read_csv('https://plot.ly/~jackp/17540/.csv')\n",
                "                # df_bond_allocation = pd.read_csv('https://plot.ly/~jackp/17538/')                                \n",
                "                  \n",
                "                # Column 1\n",
                "                                \n",
                "                html.Div([      \n",
                "                    html.H6('Financial Information', className = \"gs-header gs-text-header padded\"),\n",
                "                    html.Table( make_dash_table( df_fund_info ) ),\n",
                "                                        \n",
                "                    html.H6('Fund Characteristics', className = \"gs-header gs-text-header padded\"),\n",
                "                    html.Table( make_dash_table( df_fund_characteristics ) ),\n",
                "                                        \n",
                "                    html.H6('Fund Facts', className = \"gs-header gs-text-header padded\"),\n",
                "                    html.Table( make_dash_table( df_fund_facts ) ),\n",
                "                                        \n",
                "                ], className = \"four columns\" ),\n",
                "                                \n",
                "                # Column 2\n",
                "\n",
                "                html.Div([                                          \n",
                "                    html.H6('Sector Allocation (%)', className = \"gs-header gs-table-header padded\"),\n",
                "                    html.Iframe(src=\"https://plot.ly/~jackp/17560.embed?modebar=false&link=false&autosize=true\", \\\n",
                "                        seamless=\"seamless\", style=dict(border=0), width=\"100%\", height=\"300\"),\n",
                "                                        \n",
                "                    html.H6('Country Bond Allocation (%)', className = \"gs-header gs-table-header padded\"),\n",
                "                    html.Table( make_dash_table( df_bond_allocation ) ),\n",
                "                                        \n",
                "                ], className = \"four columns\" ),\n",
                "                                \n",
                "                # Column 3\n",
                "                                \n",
                "                html.Div([            \n",
                "                    html.H6('Top 10 Currency Weights (%)', className = \"gs-header gs-table-header padded\"),\n",
                "                    html.Iframe(src=\"https://plot.ly/~jackp/17555.embed?modebar=false&link=false&autosize=true\", \\\n",
                "                        seamless=\"seamless\", style=dict(border=0), width=\"100%\", height=\"300\"),\n",
                "                                        \n",
                "                    html.H6('Credit Allocation (%)', className = \"gs-header gs-table-header padded\"),\n",
                "                    html.Iframe(src=\"https://plot.ly/~jackp/17557.embed?modebar=false&link=false&autosize=true\", \\\n",
                "                        seamless=\"seamless\", style=dict(border=0), width=\"100%\", height=\"300\"),                                       \n",
                "                                                                                \n",
                "                ], className = \"four columns\" ),                                \n",
                "\n",
                "            ], className = \"row\"),                        \n",
                "                        \n",
                "        ], className = \"subpage\" ),\n",
                "                \n",
                "    ], className = \"page\" ),\n",
                "             \n",
                "])"
            ],
            "outputs": [],
            "metadata": {
                "collapsed": false
            },
            "cell_type": "code",
            "execution_count": 11
        },
        {
            "source": [
                "external_css = [ \"https://cdnjs.cloudflare.com/ajax/libs/normalize/7.0.0/normalize.min.css\",\n",
                "        \"https://cdnjs.cloudflare.com/ajax/libs/skeleton/2.0.4/skeleton.min.css\",\n",
                "        \"//fonts.googleapis.com/css?family=Raleway:400,300,600\",\n",
                "        \"https://codepen.io/plotly/pen/KmyPZr.css\",\n",
                "        \"https://maxcdn.bootstrapcdn.com/font-awesome/4.7.0/css/font-awesome.min.css\"]\n",
                "\n",
                "for css in external_css: \n",
                "    app.css.append_css({ \"external_url\": css })\n",
                "    \n",
                "external_js = [ \"https://code.jquery.com/jquery-3.2.1.min.js\",\n",
                "        \"https://codepen.io/plotly/pen/KmyPZr.js\" ]\n",
                "    \n",
                "for js in external_js: \n",
                "    app.scripts.append_script({ \"external_url\": js })"
            ],
            "outputs": [],
            "metadata": {
                "collapsed": false
            },
            "cell_type": "code",
            "execution_count": null
        },
        {
            "source": [
                "app.server.run()"
            ],
            "outputs": [
                {
                    "name": "stderr",
                    "text": [
                        " * Running on http://127.0.0.1:5000/ (Press CTRL+C to quit)\n",
                        "127.0.0.1 - - [08/May/2017 18:31:34] \"GET / HTTP/1.1\" 200 -\n",
                        "127.0.0.1 - - [08/May/2017 18:31:35] \"GET /_config HTTP/1.1\" 200 -\n",
                        "127.0.0.1 - - [08/May/2017 18:31:35] \"GET /layout HTTP/1.1\" 200 -\n",
                        "127.0.0.1 - - [08/May/2017 18:31:35] \"GET /dependencies HTTP/1.1\" 200 -\n",
                        "127.0.0.1 - - [08/May/2017 18:31:35] \"GET /routes HTTP/1.1\" 200 -\n",
                        "127.0.0.1 - - [08/May/2017 18:31:35] \"GET /favicon.ico HTTP/1.1\" 200 -\n"
                    ],
                    "output_type": "stream"
                }
            ],
            "metadata": {
                "collapsed": false
            },
            "cell_type": "code",
            "execution_count": null
        }
    ],
    "metadata": {
        "kernelspec": {
            "name": "python2",
            "language": "python",
            "display_name": "Python 2"
        },
        "language_info": {
            "name": "python",
            "version": "2.7.12",
            "mimetype": "text/x-python",
            "file_extension": ".py",
            "pygments_lexer": "ipython2",
            "codemirror_mode": {
                "name": "ipython",
                "version": 2
            },
            "nbconvert_exporter": "python"
        },
        "anaconda-cloud": {}
    },
    "nbformat": 4,
    "nbformat_minor": 2
}